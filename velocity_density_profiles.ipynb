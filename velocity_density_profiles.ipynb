{
 "cells": [
  {
   "cell_type": "code",
   "execution_count": 1,
   "metadata": {},
   "outputs": [],
   "source": [
    "import astropy\n",
    "from astropy.io import fits\n",
    "import numpy\n",
    "from numpy import *\n",
    "import matplotlib as mpl\n",
    "from matplotlib.pyplot import *\n",
    "import matplotlib.pyplot as plt\n",
    "import yt\n",
    "import matplotlib as mpl\n",
    "from IPython.display import Image\n",
    "from yt.units import G\n",
    "from astropy.modeling.models import Sersic2D\n",
    "from astropy.convolution import convolve_fft, Gaussian2DKernel\n",
    "from matplotlib.colors import LogNorm\n",
    "plt.rcParams['text.usetex'] = True\n",
    "%matplotlib inline"
   ]
  },
  {
   "cell_type": "code",
   "execution_count": 2,
   "metadata": {},
   "outputs": [],
   "source": [
    "DDname = 'DD0600'\n",
    "#DDname = 'DD1049'\n"
   ]
  },
  {
   "cell_type": "code",
   "execution_count": 7,
   "metadata": {},
   "outputs": [
    {
     "name": "stderr",
     "output_type": "stream",
     "text": [
      "yt : [INFO     ] 2019-02-06 16:40:13,876 Parameters: current_time              = 183.06652781829\n",
      "yt : [INFO     ] 2019-02-06 16:40:13,877 Parameters: domain_dimensions         = [256 256 256]\n",
      "yt : [INFO     ] 2019-02-06 16:40:13,878 Parameters: domain_left_edge          = [0. 0. 0.]\n",
      "yt : [INFO     ] 2019-02-06 16:40:13,879 Parameters: domain_right_edge         = [1. 1. 1.]\n",
      "yt : [INFO     ] 2019-02-06 16:40:13,880 Parameters: cosmological_simulation   = 1\n",
      "yt : [INFO     ] 2019-02-06 16:40:13,881 Parameters: current_redshift          = 1.6720386378662\n",
      "yt : [INFO     ] 2019-02-06 16:40:13,881 Parameters: omega_lambda              = 0.715\n",
      "yt : [INFO     ] 2019-02-06 16:40:13,882 Parameters: omega_matter              = 0.285\n",
      "yt : [INFO     ] 2019-02-06 16:40:13,883 Parameters: hubble_constant           = 0.695\n",
      "yt : [INFO     ] 2019-02-06 16:40:13,914 Parameters: current_time              = 183.06652781829\n",
      "yt : [INFO     ] 2019-02-06 16:40:13,915 Parameters: domain_dimensions         = [256 256 256]\n",
      "yt : [INFO     ] 2019-02-06 16:40:13,916 Parameters: domain_left_edge          = [0. 0. 0.]\n",
      "yt : [INFO     ] 2019-02-06 16:40:13,917 Parameters: domain_right_edge         = [1. 1. 1.]\n",
      "yt : [INFO     ] 2019-02-06 16:40:13,918 Parameters: cosmological_simulation   = 1\n",
      "yt : [INFO     ] 2019-02-06 16:40:13,919 Parameters: current_redshift          = 1.6720386378662\n",
      "yt : [INFO     ] 2019-02-06 16:40:13,919 Parameters: omega_lambda              = 0.715\n",
      "yt : [INFO     ] 2019-02-06 16:40:13,920 Parameters: omega_matter              = 0.285\n",
      "yt : [INFO     ] 2019-02-06 16:40:13,921 Parameters: hubble_constant           = 0.695\n"
     ]
    }
   ],
   "source": [
    "ds_n = yt.load('/Users/rsimons/Dropbox/rcs_foggie/data/halo_008508/nref11n_selfshield_z15/%s/%s'%(DDname, DDname))\n",
    "ds_f = yt.load('/Users/rsimons/Dropbox/rcs_foggie/data/halo_008508/nref11n_nref10f_selfshield_z6/%s/%s'%(DDname, DDname))\n",
    "\n",
    "#ds_n = yt.load('/Volumes/gdrive/foggie/halo_008508/nref11n_selfshield_z15/%s/%s'%(DDname, DDname))\n",
    "#ds_f = yt.load('/Volumes/gdrive/foggie/halo_008508/nref11n_nref10f_selfshield_z6/%s/%s'%(DDname, DDname))\n",
    "\n",
    "\n",
    "ad_n = ds_n.all_data()\n",
    "ad_f = ds_f.all_data()"
   ]
  },
  {
   "cell_type": "code",
   "execution_count": 8,
   "metadata": {},
   "outputs": [],
   "source": [
    "gp_n = np.load('/Users/rsimons/Dropbox/rcs_foggie/galprops/halo_008508/nref11n_selfshield_z15_%s_galprops.npy'%DDname, encoding = 'latin1')[()]\n",
    "gp_f = np.load('/Users/rsimons/Dropbox/rcs_foggie/galprops/halo_008508/nref11n_nref10f_selfshield_z6_%s_galprops.npy'%DDname, encoding = 'latin1')[()]\n"
   ]
  },
  {
   "cell_type": "code",
   "execution_count": 9,
   "metadata": {},
   "outputs": [
    {
     "name": "stderr",
     "output_type": "stream",
     "text": [
      "Parsing Hierarchy : 100%|██████████| 1177/1177 [00:00<00:00, 7317.16it/s]\n",
      "yt : [INFO     ] 2019-02-06 16:40:17,223 Gathering a field list (this may take a moment.)\n",
      "Parsing Hierarchy : 100%|██████████| 4254/4254 [00:00<00:00, 6768.03it/s]\n",
      "yt : [INFO     ] 2019-02-06 16:40:31,219 Gathering a field list (this may take a moment.)\n"
     ]
    }
   ],
   "source": [
    "gas_vx_n_o = ad_n['gas', 'velocity_x']\n",
    "gas_vy_n_o = ad_n['gas', 'velocity_y']\n",
    "gas_vz_n_o = ad_n['gas', 'velocity_z']\n",
    "\n",
    "gas_x_n_o = ad_n['gas', 'x']\n",
    "gas_y_n_o = ad_n['gas', 'y']\n",
    "gas_z_n_o = ad_n['gas', 'z']\n",
    "\n",
    "gas_vx_f_o = ad_f['gas', 'velocity_x']\n",
    "gas_vy_f_o = ad_f['gas', 'velocity_y']\n",
    "gas_vz_f_o = ad_f['gas', 'velocity_z']\n",
    "\n",
    "gas_x_f_o = ad_f['gas', 'x']\n",
    "gas_y_f_o = ad_f['gas', 'y']\n",
    "gas_z_f_o = ad_f['gas', 'z']\n",
    "\n",
    "gas_dn_n_o = ad_n['gas', 'density']\n",
    "gas_dn_f_o = ad_f['gas', 'density']\n",
    "\n"
   ]
  },
  {
   "cell_type": "code",
   "execution_count": 10,
   "metadata": {},
   "outputs": [],
   "source": [
    "gas_x_n_gal = gas_x_n_o - yt.YTArray(gp_n['stars_center'][0][0], 'kpc')\n",
    "gas_y_n_gal = gas_y_n_o - yt.YTArray(gp_n['stars_center'][0][1], 'kpc')\n",
    "gas_z_n_gal = gas_z_n_o - yt.YTArray(gp_n['stars_center'][0][2], 'kpc')\n",
    "\n",
    "gas_x_f_gal = gas_x_f_o - yt.YTArray(gp_f['stars_center'][0][0], 'kpc')\n",
    "gas_y_f_gal = gas_y_f_o - yt.YTArray(gp_f['stars_center'][0][1], 'kpc')\n",
    "gas_z_f_gal = gas_z_f_o - yt.YTArray(gp_f['stars_center'][0][2], 'kpc')\n",
    "\n",
    "\n",
    "r_n_gal = sqrt(gas_x_n_gal**2. + gas_y_n_gal**2. + gas_z_n_gal**2.).to('kpc')\n",
    "r_f_gal = sqrt(gas_x_f_gal**2. + gas_y_f_gal**2. + gas_z_f_gal**2.).to('kpc')"
   ]
  },
  {
   "cell_type": "code",
   "execution_count": null,
   "metadata": {},
   "outputs": [],
   "source": []
  },
  {
   "cell_type": "code",
   "execution_count": 11,
   "metadata": {},
   "outputs": [],
   "source": [
    "dx_n = ad_n['gas', 'dx']\n",
    "dx_f = ad_f['gas', 'dx']\n",
    "A_n = dx_n**2.\n",
    "A_f = dx_f**2.\n",
    "V_n = dx_n**3.\n",
    "V_f = dx_f**3.\n",
    "\n",
    "\n"
   ]
  },
  {
   "cell_type": "code",
   "execution_count": 8,
   "metadata": {},
   "outputs": [],
   "source": [
    "gd_n = where((r_n_gal.value < 100) & (r_n_gal.value > 20))[0]\n",
    "gd_f = where((r_f_gal.value < 100) & (r_f_gal.value > 20))[0]"
   ]
  },
  {
   "cell_type": "code",
   "execution_count": 27,
   "metadata": {},
   "outputs": [
    {
     "data": {
      "image/png": "[encoded data removed]",
      "text/plain": [
       "<Figure size 576x432 with 1 Axes>"
      ]
     },
     "metadata": {},
     "output_type": "display_data"
    }
   ],
   "source": [
    "fig, ax = plt.subplots(1,1, figsize = (8,6))\n",
    "\n",
    "mnv = 0 \n",
    "mxv = 600\n",
    "mnd = -31 \n",
    "mxd = -24\n",
    "bns = 500\n",
    "\n",
    "\n",
    "hn = ax.hist(log10(gas_dn_n_o[gd_n].value), weights = V_n[gd_n], histtype = 'step', bins = linspace(-31, -18, 200), linewidth = 2, color = 'blue')\n",
    "hf = ax.hist(log10(gas_dn_f_o[gd_f].value), weights = V_f[gd_f],  histtype = 'step', bins = linspace(-31, -18, 200), linewidth = 1, color = 'red')\n",
    "\n",
    "\n",
    "#ax.set_ylim(1.e30, 2.e70)\n",
    "\n",
    "ax.set_xlabel('gas density (g cm$^{-3}$)', fontsize = 15)\n",
    "ax.annotate('High-resolution CGM', (0.05, 0.9), xycoords = 'axes fraction', ha = 'left', color = 'red', fontweight = 'bold', fontsize = 15)\n",
    "ax.annotate('Low-resolution CGM',   (0.05, 0.8), xycoords = 'axes fraction', ha = 'left', color = 'blue', fontweight = 'bold', fontsize = 15)\n",
    "\n",
    "ax.set_yscale('log')\n",
    "fig.savefig('%s_densities.pdf'%DDname)"
   ]
  },
  {
   "cell_type": "code",
   "execution_count": 29,
   "metadata": {},
   "outputs": [
    {
     "data": {
      "text/plain": [
       "0.08619030220132276 kpc"
      ]
     },
     "execution_count": 29,
     "metadata": {},
     "output_type": "execute_result"
    }
   ],
   "source": []
  },
  {
   "cell_type": "code",
   "execution_count": 10,
   "metadata": {},
   "outputs": [
    {
     "data": {
      "image/png": "[encoded data removed]",
      "text/plain": [
       "<Figure size 1440x432 with 3 Axes>"
      ]
     },
     "metadata": {},
     "output_type": "display_data"
    }
   ],
   "source": [
    "fig, axes = plt.subplots(1,3, figsize = (20,6))\n",
    "\n",
    "mnv = 0 \n",
    "mxv = 600\n",
    "mnd = -31 \n",
    "mxd = -24\n",
    "bns = 500\n",
    "\n",
    "hn = axes[0].hist(gas_vx_n_o.to('km/s').value[gd_n], weights = V_n[gd_n], histtype = 'step', bins = linspace(-600., 600., 250), linewidth = 2, color = 'blue')\n",
    "hf = axes[0].hist(gas_vx_f_o.to('km/s').value[gd_f], weights = V_f[gd_f],  histtype = 'step', bins = linspace(-600., 600., 250), linewidth = 2, color = 'red')\n",
    "\n",
    "hn = axes[1].hist(gas_vy_n_o.to('km/s').value[gd_n], weights = V_n[gd_n], histtype = 'step', bins = linspace(-600., 600., 250), linewidth = 2, color = 'blue')\n",
    "hf = axes[1].hist(gas_vy_f_o.to('km/s').value[gd_f], weights = V_f[gd_f],  histtype = 'step', bins = linspace(-600., 600., 250), linewidth = 2, color = 'red')\n",
    "\n",
    "hn = axes[2].hist(gas_vz_n_o.to('km/s').value[gd_n], weights = V_n[gd_n], histtype = 'step', bins = linspace(-600., 600., 250), linewidth = 2, color = 'blue')\n",
    "hf = axes[2].hist(gas_vz_f_o.to('km/s').value[gd_f], weights = V_f[gd_f],  histtype = 'step', bins = linspace(-600., 600., 250), linewidth = 2, color = 'red')\n",
    "\n",
    "\n",
    "\n",
    "\n",
    "\n",
    "axes[0].annotate('High-resolution CGM', (0.55, 0.9), xycoords = 'axes fraction', ha = 'left', color = 'red', fontweight = 'bold', fontsize = 15)\n",
    "axes[0].annotate('Low-resolution CGM',   (0.55, 0.83), xycoords = 'axes fraction', ha = 'left', color = 'blue', fontweight = 'bold', fontsize = 15)\n",
    "\n",
    "\n",
    "\n",
    "\n",
    "\n",
    "\n",
    "axes[0].set_xlabel('X-velocity of CGM gas (km s$^{-1}$)', fontsize = 15)\n",
    "axes[1].set_xlabel('Y-velocity of CGM gas (km s$^{-1}$)', fontsize = 15)\n",
    "axes[2].set_xlabel('Z-velocity of CGM gas (km s$^{-1}$)', fontsize = 15)\n",
    "\n",
    "fig.savefig('%s_XYZ_velocity_distribution.pdf'%DDname)\n",
    "\n",
    "\n",
    "\n",
    "\n"
   ]
  },
  {
   "cell_type": "code",
   "execution_count": 11,
   "metadata": {},
   "outputs": [],
   "source": [
    "vel_n = sqrt(gas_vx_n_o**2. + \n",
    "             gas_vy_n_o**2. + \n",
    "             gas_vz_n_o**2.)/sqrt(3.)\n",
    "\n",
    "vel_f = sqrt(gas_vx_f_o**2. + \n",
    "             gas_vy_f_o**2. + \n",
    "             gas_vz_f_o**2.)/sqrt(3.)"
   ]
  },
  {
   "cell_type": "code",
   "execution_count": 12,
   "metadata": {},
   "outputs": [
    {
     "data": {
      "image/png": "[encoded data removed]",
      "text/plain": [
       "<Figure size 576x432 with 1 Axes>"
      ]
     },
     "metadata": {},
     "output_type": "display_data"
    }
   ],
   "source": [
    "fig, axes = plt.subplots(1,1, figsize = (8,6))\n",
    "\n",
    "mnv = 0 \n",
    "mxv = 600\n",
    "mnd = -31 \n",
    "mxd = -24\n",
    "bns = 500\n",
    "\n",
    "hn = axes.hist(vel_n.to('km/s').value[gd_n], weights = V_n[gd_n], histtype = 'step', bins = linspace(0., 600., 250), linewidth = 2, color = 'blue')\n",
    "hf = axes.hist(vel_f.to('km/s').value[gd_f], weights = V_f[gd_f],  histtype = 'step', bins = linspace(0., 600., 250), linewidth = 2, color = 'red')\n",
    "axes.annotate('High-resolution CGM', (0.65, 0.9), xycoords = 'axes fraction', ha = 'left', color = 'red', fontweight = 'bold', fontsize = 15)\n",
    "axes.annotate('Low-resolution CGM',   (0.65, 0.83), xycoords = 'axes fraction', ha = 'left', color = 'blue', fontweight = 'bold', fontsize = 15)\n",
    "\n",
    "\n",
    "\n",
    "\n",
    "\n",
    "\n",
    "axes.set_xlabel('$<$1D$>$ velocity of CGM gas (km s$^{-1}$)', fontsize = 15)\n",
    "fig.savefig('%s_velocity_distribution.pdf'%DDname)\n",
    "\n",
    "\n",
    "\n",
    "\n"
   ]
  },
  {
   "cell_type": "code",
   "execution_count": 13,
   "metadata": {},
   "outputs": [],
   "source": [
    "ram_n = (vel_n**2. * gas_dn_n_o).to('dyn/cm**2')\n",
    "ram_f = (vel_f**2. * gas_dn_f_o).to('dyn/cm**2')"
   ]
  },
  {
   "cell_type": "code",
   "execution_count": 14,
   "metadata": {},
   "outputs": [],
   "source": [
    "rand_n = np.random.randint(0, len(gd_n), 5000)\n",
    "gd_n_t = gd_n[rand_n]\n",
    "rand_n = np.random.randint(0, len(gd_f), 5000)\n",
    "gd_f_t = gd_f[rand_n]\n",
    "\n"
   ]
  },
  {
   "cell_type": "code",
   "execution_count": 15,
   "metadata": {},
   "outputs": [
    {
     "data": {
      "image/png": "[encoded data removed]",
      "text/plain": [
       "<Figure size 576x432 with 1 Axes>"
      ]
     },
     "metadata": {},
     "output_type": "display_data"
    }
   ],
   "source": [
    "fig, axes = plt.subplots(1,1, figsize = (8,6))\n",
    "\n",
    "gd = where(vel_f.to('km/s').value[gd_f_t] > 250.)[0]\n",
    "\n",
    "axes.plot(r_n_gal[gd_n_t], ram_n[gd_n_t], 'b.', markersize = 2.)\n",
    "axes.plot(r_f_gal[gd_f_t], ram_f[gd_f_t], 'r.', markersize = 2.)\n",
    "\n",
    "axes.set_yscale('log')\n",
    "\n",
    "axes.annotate('High-resolution CGM', (0.65, 0.9), xycoords = 'axes fraction', ha = 'left', color = 'red', fontweight = 'bold', fontsize = 15)\n",
    "axes.annotate('Low-resolution CGM',   (0.65, 0.83), xycoords = 'axes fraction', ha = 'left', color = 'blue', fontweight = 'bold', fontsize = 15)\n",
    "\n",
    "\n",
    "\n",
    "axes.set_xlabel('distance from galaxy center (kpc)', fontsize = 15)\n",
    "axes.set_ylabel('Ram Pressure (dyn cm$^{-2}$)', fontsize = 15)\n",
    "\n",
    "fig.savefig('%s_ram_pressure_rad.pdf'%DDname)\n",
    "\n",
    "\n",
    "\n",
    "\n"
   ]
  },
  {
   "cell_type": "code",
   "execution_count": 16,
   "metadata": {},
   "outputs": [
    {
     "data": {
      "text/plain": [
       "YTArray([64426.94494862, 64252.51498969, 64078.97564308, ...,\n",
       "           499.65769137,   499.45388815,   499.25016886]) kpc"
      ]
     },
     "execution_count": 16,
     "metadata": {},
     "output_type": "execute_result"
    }
   ],
   "source": [
    "r_f_gal"
   ]
  },
  {
   "cell_type": "code",
   "execution_count": 17,
   "metadata": {},
   "outputs": [
    {
     "data": {
      "text/plain": [
       "YTArray([8.64609003e-16, 3.84133773e-16, 2.23851041e-16, ...,\n",
       "         3.30111443e-12, 2.53508412e-12, 1.90078085e-12]) dyn/cm**2"
      ]
     },
     "execution_count": 17,
     "metadata": {},
     "output_type": "execute_result"
    }
   ],
   "source": [
    "ram_f"
   ]
  },
  {
   "cell_type": "code",
   "execution_count": null,
   "metadata": {},
   "outputs": [],
   "source": []
  },
  {
   "cell_type": "code",
   "execution_count": null,
   "metadata": {},
   "outputs": [],
   "source": []
  },
  {
   "cell_type": "code",
   "execution_count": null,
   "metadata": {},
   "outputs": [],
   "source": []
  },
  {
   "cell_type": "code",
   "execution_count": null,
   "metadata": {},
   "outputs": [],
   "source": []
  },
  {
   "cell_type": "code",
   "execution_count": null,
   "metadata": {},
   "outputs": [],
   "source": []
  },
  {
   "cell_type": "code",
   "execution_count": null,
   "metadata": {},
   "outputs": [],
   "source": []
  },
  {
   "cell_type": "code",
   "execution_count": null,
   "metadata": {},
   "outputs": [],
   "source": []
  },
  {
   "cell_type": "code",
   "execution_count": 13,
   "metadata": {},
   "outputs": [],
   "source": [
    "gas_dn_1_o = ad_f['gas', 'density']\n",
    "gas_dn_2_o = ad_n['gas', 'density']\n",
    "\n"
   ]
  },
  {
   "cell_type": "code",
   "execution_count": 14,
   "metadata": {},
   "outputs": [],
   "source": [
    "dx1_o = ad_f['gas', 'dx']\n",
    "dx2_o = ad_n['gas', 'dx']\n",
    "\n",
    "A1_o = dx1_o**3.\n",
    "A2_o = dx2_o**3."
   ]
  },
  {
   "cell_type": "code",
   "execution_count": 15,
   "metadata": {},
   "outputs": [],
   "source": [
    "gas_x_n_gal = gas_x_n_o - yt.YTArray(gp_n['stars_center'][0][0], 'kpc')\n",
    "gas_y_n_gal = gas_y_n_o - yt.YTArray(gp_n['stars_center'][0][1], 'kpc')\n",
    "gas_z_n_gal = gas_z_n_o - yt.YTArray(gp_n['stars_center'][0][2], 'kpc')\n",
    "\n",
    "\n",
    "gas_x_f_gal = gas_x_f_o - yt.YTArray(gp_f['stars_center'][0][0], 'kpc')\n",
    "gas_y_f_gal = gas_y_f_o - yt.YTArray(gp_f['stars_center'][0][1], 'kpc')\n",
    "gas_z_f_gal = gas_z_f_o - yt.YTArray(gp_f['stars_center'][0][2], 'kpc')\n",
    "\n",
    "\n",
    "r_n_gal = sqrt(gas_x_n_gal**2. + gas_y_n_gal**2. + gas_z_n_gal**2.).to('kpc')\n",
    "r_f_gal = sqrt(gas_x_f_gal**2. + gas_y_f_gal**2. + gas_z_f_gal**2.).to('kpc')\n",
    "\n",
    "\n"
   ]
  },
  {
   "cell_type": "code",
   "execution_count": null,
   "metadata": {},
   "outputs": [],
   "source": [
    "'''\n",
    "gas_vx_1_gal = gas_vx_1.to('km/s').value - anchor_vxs_box_avg1\n",
    "gas_vy_1_gal = gas_vy_1.to('km/s').value - anchor_vys_box_avg1\n",
    "gas_vz_1_gal = gas_vz_1.to('km/s').value - anchor_vzs_box_avg1\n",
    "\n",
    "gas_x_1_gal = gas_x_1.to('kpc').value - anchor_xs_box_avg1\n",
    "gas_y_1_gal = gas_y_1.to('kpc').value - anchor_ys_box_avg1\n",
    "gas_z_1_gal = gas_z_1.to('kpc').value - anchor_zs_box_avg1\n",
    "\n",
    "\n",
    "\n",
    "\n",
    "gas_vx_2_gal = gas_vx_2.to('km/s').value - anchor_vxs_box_avg2\n",
    "gas_vy_2_gal = gas_vy_2.to('km/s').value - anchor_vys_box_avg2\n",
    "gas_vz_2_gal = gas_vz_2.to('km/s').value - anchor_vzs_box_avg2\n",
    "\n",
    "gas_x_2_gal = gas_x_2.to('kpc').value - anchor_xs_box_avg2\n",
    "gas_y_2_gal = gas_y_2.to('kpc').value - anchor_ys_box_avg2\n",
    "gas_z_2_gal = gas_z_2.to('kpc').value - anchor_zs_box_avg2\n",
    "\n",
    "'''\n"
   ]
  },
  {
   "cell_type": "code",
   "execution_count": null,
   "metadata": {},
   "outputs": [],
   "source": [
    "gas_v_1_gal_o = sqrt(gas_vx_1_gal**2. + gas_vy_1_gal**2. + gas_vz_1_gal**2.)\n",
    "gas_v_2_gal_o = sqrt(gas_vx_2_gal**2. + gas_vy_2_gal**2. + gas_vz_2_gal**2.)\n",
    "\n",
    "gas_p_1_gal_o = sqrt(gas_x_1_gal**2. + gas_y_1_gal**2. + gas_z_1_gal**2.)\n",
    "gas_p_2_gal_o = sqrt(gas_x_2_gal**2. + gas_y_2_gal**2. + gas_z_2_gal**2.)\n",
    "\n"
   ]
  },
  {
   "cell_type": "code",
   "execution_count": null,
   "metadata": {},
   "outputs": [],
   "source": [
    "gas_v_1_gal = gas_v_1_gal_o[gas_p_1_gal_o < 100] \n",
    "gas_v_2_gal = gas_v_2_gal_o[gas_p_2_gal_o < 100]\n",
    "gas_p_1_gal = gas_p_1_gal_o[gas_p_1_gal_o < 100]\n",
    "gas_p_2_gal = gas_p_2_gal_o[gas_p_2_gal_o < 100]\n",
    "\n",
    "\n",
    "\n",
    "A1 = A1_o[gas_p_1_gal_o < 100]\n",
    "A2 = A2_o[gas_p_2_gal_o < 100]\n",
    "\n",
    "gas_dn_1 = gas_dn_1_o[gas_p_1_gal_o < 100]\n",
    "gas_dn_2 = gas_dn_2_o[gas_p_2_gal_o < 100]\n",
    "\n",
    "\n"
   ]
  },
  {
   "cell_type": "code",
   "execution_count": null,
   "metadata": {},
   "outputs": [],
   "source": []
  },
  {
   "cell_type": "code",
   "execution_count": null,
   "metadata": {},
   "outputs": [],
   "source": [
    "mpl.rcParams['axes.linewidth'] = 8\n",
    "mpl.rcParams['xtick.labelsize'] = 14\n",
    "mpl.rcParams['ytick.labelsize'] = 14\n",
    "mpl.rcParams['text.usetex'] = True\n",
    "mpl.rcParams['xtick.major.size'] = 10\n",
    "mpl.rcParams['ytick.major.size'] = 10\n",
    "\n",
    "\n",
    "fig, axes = plt.subplots(1,2, figsize = (20,10))\n",
    "\n",
    "mnv = 0 \n",
    "mxv = 600\n",
    "mnd = -31 \n",
    "mxd = -24\n",
    "bns = 500\n",
    "\n",
    "\n",
    "P1 = (gas_v_1_gal/sqrt(3))**2. * gas_dn_1\n",
    "P2 = (gas_v_2_gal/sqrt(3))**2. * gas_dn_2\n",
    "\n",
    "vmn = 1.e-12\n",
    "vmx = 5.e-1\n",
    "im1 = axes[0].hist2d(log10(gas_dn_1),gas_v_1_gal/sqrt(3), weights = A1,normed = True, norm = LogNorm(), vmin = vmn, vmax = vmx, bins = [linspace(mnd, mxd, bns), linspace(mnv, mxv, bns)])\n",
    "im2 = axes[1].hist2d(log10(gas_dn_2),gas_v_2_gal/sqrt(3), weights = A2,normed = True, norm = LogNorm(), vmin = vmn, vmax = vmx,bins = [linspace(mnd, mxd, bns), linspace(mnv, mxv, bns)])\n",
    "\n",
    "\n",
    "#stf = axes[1].hist2d(log10(gas_dn_2),gas_v_2_gal/sqrt(3), weights = A2, norm = LogNorm(), bins = [linspace(mnd, mxd, bns), linspace(mnv, mxv, bns)])\n",
    "\n",
    "\n",
    "for ax in axes:\n",
    "    ax.set_xlabel(r'gas density, g cm$^{-3}$', fontsize = 20)\n",
    "\n",
    "axes[0].set_ylabel('1D velocity, km s$^{-1}$ \\n(rest-frame of the central galaxy)', fontsize = 20)\n",
    "axes[1].set_ylabel('')\n",
    "\n",
    "axes[1].set_yticks([])\n",
    "\n",
    "Ps = yt.YTArray([1.e-17, 1.e-16, 1.e-15, 1.e-14, 1.e-13, 1.e-12], 'dyn/cm**2')\n",
    "\n",
    "dns = yt.YTArray([1.*10**d for d in linspace(-31, -23, 300)], 'g/cm**3')\n",
    "\n",
    "for P in Ps:\n",
    "    vs = sqrt(P/(dns)).to('km/s')\n",
    "    axes[0].plot(log10(dns), vs, 'k--', linewidth = 3)    \n",
    "    axes[1].plot(log10(dns), vs, 'k--', linewidth = 3)    \n",
    "    \n",
    "    \n",
    "    \n",
    "for ax in axes.ravel():\n",
    "    ax.set_xlim(mnd, mxd)\n",
    "    ax.set_ylim(mnv, mxv)\n",
    "    \n",
    "    \n",
    "cbar = plt.colorbar(im2[3], ax = axes[1])\n",
    "\n",
    "\n",
    "axes[0].set_title('low resolution CGM \\n(natural refinement)', fontsize = 30)\n",
    "axes[1].set_title('high resolution CGM \\n(forced refinement)', fontsize = 30)\n",
    "\n",
    "#cbar.set_ticks({})\n",
    "\n",
    "\n",
    "#cbar.ax.tick_params(labelsize = 20)\n",
    "\n",
    "cbar.set_label('volume', fontsize = 20)\n",
    "\n",
    "fig.subplots_adjust(wspace = 0.0)\n",
    "\n",
    "fig.savefig('velocity_density.png', dpi = 300)\n",
    "\n",
    "\n"
   ]
  },
  {
   "cell_type": "code",
   "execution_count": null,
   "metadata": {},
   "outputs": [],
   "source": [
    "P1 = (gas_v_1_gal/sqrt(3))**2. * gas_dn_1\n",
    "P2 = (gas_v_2_gal/sqrt(3))**2. * gas_dn_2\n"
   ]
  },
  {
   "cell_type": "code",
   "execution_count": null,
   "metadata": {},
   "outputs": [],
   "source": [
    "fig, ax = plt.subplots(1,1, figsize = (15,7))\n",
    "\n",
    "mnv = 0 \n",
    "mxv = 600\n",
    "mnd = -31 \n",
    "mxd = -24\n",
    "bns = 500\n",
    "\n",
    "ax.hist(log10(P1), weights = A1, histtype = 'step', bins = linspace(-27.5, -22, 100), linewidth = 4, '')\n",
    "ax.hist(log10(P2), weights = A2, histtype = 'step', bins = linspace(-27.5, -22, 100), linewidth = 4, )\n",
    "\n",
    "\n",
    "#stf = axes[1].hist2d(log10(gas_dn_2),gas_v_2_gal/sqrt(3), weights = A2, norm = LogNorm(), bins = [linspace(mnd, mxd, bns), linspace(mnv, mxv, bns)])\n",
    "\n",
    "\n",
    "\n",
    "ax.set_xlabel(r'ram pressure, dyn cm$^{-2}$ (v$_{satellite}$ = 0)', fontsize = 20)\n",
    "\n",
    "\n",
    "fig.savefig('ram_pressure.png', dpi = 300)\n",
    "\n",
    "\n"
   ]
  },
  {
   "cell_type": "code",
   "execution_count": null,
   "metadata": {},
   "outputs": [],
   "source": [
    "P1\n"
   ]
  },
  {
   "cell_type": "code",
   "execution_count": null,
   "metadata": {},
   "outputs": [],
   "source": [
    "anchor_vxs_box_avg1"
   ]
  },
  {
   "cell_type": "code",
   "execution_count": null,
   "metadata": {},
   "outputs": [],
   "source": [
    "gas_v_2_gal"
   ]
  },
  {
   "cell_type": "code",
   "execution_count": null,
   "metadata": {},
   "outputs": [],
   "source": []
  },
  {
   "cell_type": "code",
   "execution_count": null,
   "metadata": {},
   "outputs": [],
   "source": [
    "\n",
    "axes[0].set_title('low resolution CGM \\n(natural refinement)', fontsize = 30, pad = 20)\n",
    "axes[1].set_title('high resolution CGM \\n(forced refinement)', fontsize = 30, pad = 20)\n",
    "\n",
    "#cbar.set_ticks({})\n",
    "\n",
    "\n",
    "#cbar.ax.tick_params(labelsize = 20)\n",
    "\n",
    "\n",
    "cbar.set_label('volume weighted', fontsize = 24, labelpad = 15)\n",
    "\n",
    "for ax in axes:\n",
    "    ax.set_xlabel(r'gas density, g cm$^{-3}$', fontsize = 24)\n",
    "\n",
    "axes[0].set_ylabel('1D velocity, km s$^{-1}$ \\n(rest-frame of the central galaxy)', fontsize = 25)\n",
    "axes[1].set_ylabel('')\n",
    "\n",
    "#cbar.set_ticks([1.e-12, 1.e-8, 1.e-4, 1.e0])\n",
    "cbar.set_ticks([])\n",
    "\n",
    "fig.subplots_adjust(wspace = 0.05, right = 0.99)\n",
    "\n",
    "\n",
    "fig.savefig('velocity_density.png', dpi = 300)\n"
   ]
  },
  {
   "cell_type": "code",
   "execution_count": null,
   "metadata": {},
   "outputs": [],
   "source": []
  },
  {
   "cell_type": "code",
   "execution_count": null,
   "metadata": {},
   "outputs": [],
   "source": []
  },
  {
   "cell_type": "code",
   "execution_count": null,
   "metadata": {},
   "outputs": [],
   "source": []
  },
  {
   "cell_type": "code",
   "execution_count": null,
   "metadata": {},
   "outputs": [],
   "source": []
  },
  {
   "cell_type": "code",
   "execution_count": null,
   "metadata": {},
   "outputs": [],
   "source": []
  },
  {
   "cell_type": "code",
   "execution_count": null,
   "metadata": {},
   "outputs": [],
   "source": []
  },
  {
   "cell_type": "code",
   "execution_count": null,
   "metadata": {},
   "outputs": [],
   "source": []
  },
  {
   "cell_type": "code",
   "execution_count": null,
   "metadata": {},
   "outputs": [],
   "source": []
  },
  {
   "cell_type": "code",
   "execution_count": null,
   "metadata": {},
   "outputs": [],
   "source": []
  },
  {
   "cell_type": "code",
   "execution_count": null,
   "metadata": {},
   "outputs": [],
   "source": []
  }
 ],
 "metadata": {
  "kernelspec": {
   "display_name": "Python 3",
   "language": "python",
   "name": "python3"
  },
  "language_info": {
   "codemirror_mode": {
    "name": "ipython",
    "version": 3
   },
   "file_extension": ".py",
   "mimetype": "text/x-python",
   "name": "python",
   "nbconvert_exporter": "python",
   "pygments_lexer": "ipython3",
   "version": "3.5.5"
  }
 },
 "nbformat": 4,
 "nbformat_minor": 2
}
