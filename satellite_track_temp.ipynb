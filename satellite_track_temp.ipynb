{
 "cells": [
  {
   "cell_type": "code",
   "execution_count": 1,
   "metadata": {},
   "outputs": [
    {
     "name": "stderr",
     "output_type": "stream",
     "text": [
      "/anaconda2/lib/python2.7/site-packages/h5py/__init__.py:36: FutureWarning: Conversion of the second argument of issubdtype from `float` to `np.floating` is deprecated. In future, it will be treated as `np.float64 == np.dtype(float).type`.\n",
      "  from ._conv import register_converters as _register_converters\n"
     ]
    }
   ],
   "source": [
    "import astropy\n",
    "from astropy.io import fits\n",
    "import numpy\n",
    "from numpy import *\n",
    "import matplotlib as mpl\n",
    "from matplotlib.pyplot import *\n",
    "import matplotlib.pyplot as plt\n",
    "import yt\n",
    "from scipy.signal import find_peaks\n",
    "\n",
    "%matplotlib inline"
   ]
  },
  {
   "cell_type": "code",
   "execution_count": 2,
   "metadata": {},
   "outputs": [
    {
     "name": "stderr",
     "output_type": "stream",
     "text": [
      "yt : [INFO     ] 2019-01-08 11:12:45,573 Parameters: current_time              = 295.316463725\n",
      "yt : [INFO     ] 2019-01-08 11:12:45,575 Parameters: domain_dimensions         = [256 256 256]\n",
      "yt : [INFO     ] 2019-01-08 11:12:45,576 Parameters: domain_left_edge          = [0. 0. 0.]\n",
      "yt : [INFO     ] 2019-01-08 11:12:45,578 Parameters: domain_right_edge         = [1. 1. 1.]\n",
      "yt : [INFO     ] 2019-01-08 11:12:45,580 Parameters: cosmological_simulation   = 1\n",
      "yt : [INFO     ] 2019-01-08 11:12:45,581 Parameters: current_redshift          = 0.900132268192\n",
      "yt : [INFO     ] 2019-01-08 11:12:45,583 Parameters: omega_lambda              = 0.715\n",
      "yt : [INFO     ] 2019-01-08 11:12:45,584 Parameters: omega_matter              = 0.285\n",
      "yt : [INFO     ] 2019-01-08 11:12:45,586 Parameters: hubble_constant           = 0.695\n"
     ]
    }
   ],
   "source": [
    "ds = yt.load('/Volumes/gdrive/foggie/halo_008508/nref11n/nref11n_nref10f/DD0906/DD0906')\n"
   ]
  },
  {
   "cell_type": "code",
   "execution_count": null,
   "metadata": {},
   "outputs": [],
   "source": []
  }
 ],
 "metadata": {
  "kernelspec": {
   "display_name": "Python 2",
   "language": "python",
   "name": "python2"
  },
  "language_info": {
   "codemirror_mode": {
    "name": "ipython",
    "version": 2
   },
   "file_extension": ".py",
   "mimetype": "text/x-python",
   "name": "python",
   "nbconvert_exporter": "python",
   "pygments_lexer": "ipython2",
   "version": "2.7.15"
  }
 },
 "nbformat": 4,
 "nbformat_minor": 2
}
